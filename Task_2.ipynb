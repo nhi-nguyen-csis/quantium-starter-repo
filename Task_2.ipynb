{
 "cells": [
  {
   "cell_type": "code",
   "execution_count": 82,
   "id": "738882d0",
   "metadata": {},
   "outputs": [],
   "source": [
    "import pandas as pd\n",
    "import matplotlib.pyplot as plt"
   ]
  },
  {
   "cell_type": "markdown",
   "id": "8edc68ee",
   "metadata": {},
   "source": [
    "Next, we’ll go field by field and think about how we can use each one:\n",
    "- The first field, “product”, contains many different types of morsels. Soul Foods is only interested in Pink Morsels, so we can remove any row which contains another type of product.\n",
    "- Next come “quantity” and “price”. Since we’re interested in the total sales for a given day, these can be combined into a single field, “sales,” by multiplying them together.\n",
    "- The date field is useful as is and can remain untouched.\n",
    "- It would be nice to filter by region in the final visualisation, so we’ll also leave the region field untouched."
   ]
  },
  {
   "cell_type": "code",
   "execution_count": 96,
   "id": "5d693213",
   "metadata": {},
   "outputs": [],
   "source": [
    "def wrangle(path):\n",
    "    # read file\n",
    "    df = pd.read_csv(path)\n",
    "    # filter a subset of the original dataset\n",
    "    mask_pink_morsel = df['product'] == 'pink morsel'\n",
    "    df = df[mask_pink_morsel]\n",
    "    # create a new column sales\n",
    "    df.price = df.price.str.replace(\"$\", \"\").astype(float)\n",
    "    df['sales'] = df['price'] * df['quantity']\n",
    "    # drop other columns\n",
    "    df.drop(columns=['price', 'quantity', 'product'], inplace=True)\n",
    "    return df"
   ]
  },
  {
   "cell_type": "code",
   "execution_count": 97,
   "id": "e490013b",
   "metadata": {},
   "outputs": [],
   "source": [
    "df0 = wrangle('data/daily_sales_data_0.csv')\n",
    "df1 = wrangle('data/daily_sales_data_1.csv')\n",
    "df2 = wrangle('data/daily_sales_data_2.csv')"
   ]
  },
  {
   "cell_type": "code",
   "execution_count": 98,
   "id": "8d61797f",
   "metadata": {},
   "outputs": [],
   "source": [
    "df = pd.concat([df0, df1, df2], axis=0).reset_index(drop=True)"
   ]
  },
  {
   "cell_type": "code",
   "execution_count": 99,
   "id": "8405ce2f",
   "metadata": {
    "scrolled": true
   },
   "outputs": [
    {
     "data": {
      "text/html": [
       "<div>\n",
       "<style scoped>\n",
       "    .dataframe tbody tr th:only-of-type {\n",
       "        vertical-align: middle;\n",
       "    }\n",
       "\n",
       "    .dataframe tbody tr th {\n",
       "        vertical-align: top;\n",
       "    }\n",
       "\n",
       "    .dataframe thead th {\n",
       "        text-align: right;\n",
       "    }\n",
       "</style>\n",
       "<table border=\"1\" class=\"dataframe\">\n",
       "  <thead>\n",
       "    <tr style=\"text-align: right;\">\n",
       "      <th></th>\n",
       "      <th>date</th>\n",
       "      <th>region</th>\n",
       "      <th>sales</th>\n",
       "    </tr>\n",
       "  </thead>\n",
       "  <tbody>\n",
       "    <tr>\n",
       "      <th>0</th>\n",
       "      <td>2018-02-06</td>\n",
       "      <td>north</td>\n",
       "      <td>1638.0</td>\n",
       "    </tr>\n",
       "    <tr>\n",
       "      <th>1</th>\n",
       "      <td>2018-02-06</td>\n",
       "      <td>south</td>\n",
       "      <td>1647.0</td>\n",
       "    </tr>\n",
       "    <tr>\n",
       "      <th>2</th>\n",
       "      <td>2018-02-06</td>\n",
       "      <td>east</td>\n",
       "      <td>1731.0</td>\n",
       "    </tr>\n",
       "    <tr>\n",
       "      <th>3</th>\n",
       "      <td>2018-02-06</td>\n",
       "      <td>west</td>\n",
       "      <td>1557.0</td>\n",
       "    </tr>\n",
       "    <tr>\n",
       "      <th>4</th>\n",
       "      <td>2018-02-07</td>\n",
       "      <td>north</td>\n",
       "      <td>1587.0</td>\n",
       "    </tr>\n",
       "  </tbody>\n",
       "</table>\n",
       "</div>"
      ],
      "text/plain": [
       "         date region   sales\n",
       "0  2018-02-06  north  1638.0\n",
       "1  2018-02-06  south  1647.0\n",
       "2  2018-02-06   east  1731.0\n",
       "3  2018-02-06   west  1557.0\n",
       "4  2018-02-07  north  1587.0"
      ]
     },
     "execution_count": 99,
     "metadata": {},
     "output_type": "execute_result"
    }
   ],
   "source": [
    "df.head()"
   ]
  },
  {
   "cell_type": "code",
   "execution_count": 100,
   "id": "7d71979c",
   "metadata": {},
   "outputs": [
    {
     "name": "stdout",
     "output_type": "stream",
     "text": [
      "<class 'pandas.core.frame.DataFrame'>\n",
      "RangeIndex: 5880 entries, 0 to 5879\n",
      "Data columns (total 3 columns):\n",
      " #   Column  Non-Null Count  Dtype  \n",
      "---  ------  --------------  -----  \n",
      " 0   date    5880 non-null   object \n",
      " 1   region  5880 non-null   object \n",
      " 2   sales   5880 non-null   float64\n",
      "dtypes: float64(1), object(2)\n",
      "memory usage: 137.9+ KB\n"
     ]
    }
   ],
   "source": [
    "df.info()"
   ]
  },
  {
   "cell_type": "code",
   "execution_count": 102,
   "id": "7632d63b",
   "metadata": {},
   "outputs": [
    {
     "data": {
      "text/plain": [
       "region\n",
       "north    2663876.0\n",
       "west     2661639.0\n",
       "south    2660340.0\n",
       "east     2659728.0\n",
       "Name: sales, dtype: float64"
      ]
     },
     "execution_count": 102,
     "metadata": {},
     "output_type": "execute_result"
    }
   ],
   "source": [
    "sale_by_region = df.groupby('region').sales.sum().sort_values(ascending=False)\n",
    "sale_by_region"
   ]
  },
  {
   "cell_type": "code",
   "execution_count": 95,
   "id": "eece2c77",
   "metadata": {},
   "outputs": [
    {
     "data": {
      "image/png": "[encoded data removed]",
      "text/plain": [
       "<Figure size 640x480 with 1 Axes>"
      ]
     },
     "metadata": {},
     "output_type": "display_data"
    }
   ],
   "source": [
    "sale_by_region = df.groupby('region').sales.sum().sort_values(ascending=False)\n",
    "sale_by_region.plot(\n",
    "    kind='line',\n",
    "    xlabel='region',\n",
    "    ylabel='sales',\n",
    "    title=\"Total Sales by Region\"\n",
    ");"
   ]
  },
  {
   "cell_type": "code",
   "execution_count": 104,
   "id": "2a40f8e0",
   "metadata": {},
   "outputs": [],
   "source": [
    "df_clean = df.to_csv('data/data_clean.csv', index=False)"
   ]
  },
  {
   "cell_type": "code",
   "execution_count": null,
   "id": "23f3dc48",
   "metadata": {},
   "outputs": [],
   "source": []
  }
 ],
 "metadata": {
  "kernelspec": {
   "display_name": "Python 3 (ipykernel)",
   "language": "python",
   "name": "python3"
  },
  "language_info": {
   "codemirror_mode": {
    "name": "ipython",
    "version": 3
   },
   "file_extension": ".py",
   "mimetype": "text/x-python",
   "name": "python",
   "nbconvert_exporter": "python",
   "pygments_lexer": "ipython3",
   "version": "3.10.2"
  }
 },
 "nbformat": 4,
 "nbformat_minor": 5
}

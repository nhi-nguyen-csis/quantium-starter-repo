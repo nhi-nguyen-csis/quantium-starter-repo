{
 "cells": [
  {
   "cell_type": "markdown",
   "id": "d697301f",
   "metadata": {},
   "source": [
    "__Task 3__\n",
    "\n",
    "__Answer the question “Were sales higher before or after the Pink Morsel price increase on the 15th of January, 2021?”__"
   ]
  },
  {
   "cell_type": "code",
   "execution_count": 45,
   "id": "aa32d79a",
   "metadata": {},
   "outputs": [],
   "source": [
    "import pandas as pd\n",
    "import matplotlib.pyplot as plt"
   ]
  },
  {
   "cell_type": "code",
   "execution_count": 46,
   "id": "b9ddc7f9",
   "metadata": {},
   "outputs": [],
   "source": [
    "df = pd.read_csv(\"data/data_clean.csv\")"
   ]
  },
  {
   "cell_type": "code",
   "execution_count": 47,
   "id": "e8110802",
   "metadata": {},
   "outputs": [
    {
     "data": {
      "text/html": [
       "<div>\n",
       "<style scoped>\n",
       "    .dataframe tbody tr th:only-of-type {\n",
       "        vertical-align: middle;\n",
       "    }\n",
       "\n",
       "    .dataframe tbody tr th {\n",
       "        vertical-align: top;\n",
       "    }\n",
       "\n",
       "    .dataframe thead th {\n",
       "        text-align: right;\n",
       "    }\n",
       "</style>\n",
       "<table border=\"1\" class=\"dataframe\">\n",
       "  <thead>\n",
       "    <tr style=\"text-align: right;\">\n",
       "      <th></th>\n",
       "      <th>date</th>\n",
       "      <th>region</th>\n",
       "      <th>sales</th>\n",
       "    </tr>\n",
       "  </thead>\n",
       "  <tbody>\n",
       "    <tr>\n",
       "      <th>0</th>\n",
       "      <td>2018-02-06</td>\n",
       "      <td>north</td>\n",
       "      <td>1638.0</td>\n",
       "    </tr>\n",
       "    <tr>\n",
       "      <th>1</th>\n",
       "      <td>2018-02-06</td>\n",
       "      <td>south</td>\n",
       "      <td>1647.0</td>\n",
       "    </tr>\n",
       "    <tr>\n",
       "      <th>2</th>\n",
       "      <td>2018-02-06</td>\n",
       "      <td>east</td>\n",
       "      <td>1731.0</td>\n",
       "    </tr>\n",
       "    <tr>\n",
       "      <th>3</th>\n",
       "      <td>2018-02-06</td>\n",
       "      <td>west</td>\n",
       "      <td>1557.0</td>\n",
       "    </tr>\n",
       "    <tr>\n",
       "      <th>4</th>\n",
       "      <td>2018-02-07</td>\n",
       "      <td>north</td>\n",
       "      <td>1587.0</td>\n",
       "    </tr>\n",
       "  </tbody>\n",
       "</table>\n",
       "</div>"
      ],
      "text/plain": [
       "         date region   sales\n",
       "0  2018-02-06  north  1638.0\n",
       "1  2018-02-06  south  1647.0\n",
       "2  2018-02-06   east  1731.0\n",
       "3  2018-02-06   west  1557.0\n",
       "4  2018-02-07  north  1587.0"
      ]
     },
     "execution_count": 47,
     "metadata": {},
     "output_type": "execute_result"
    }
   ],
   "source": [
    "df.head()"
   ]
  },
  {
   "cell_type": "code",
   "execution_count": 48,
   "id": "594f52c1",
   "metadata": {},
   "outputs": [],
   "source": [
    "df['date'] = pd.to_datetime(df['date'])\n",
    "df_before_increasing = df[df['date'] < pd.Timestamp(2021, 1, 15)]\n",
    "df_after_increasing = df[df['date'] >= pd.Timestamp(2021, 1, 15)]"
   ]
  },
  {
   "cell_type": "code",
   "execution_count": 49,
   "id": "39549d88",
   "metadata": {},
   "outputs": [
    {
     "name": "stdout",
     "output_type": "stream",
     "text": [
      "Were sales higher after the Pink Morsel price increase on the 15th of January, 2021? Yes\n",
      "Decreasing by $3540103.0\n"
     ]
    }
   ],
   "source": [
    "text = f\"Were sales higher after the Pink Morsel price increase on the 15th of January, 2021?\"\n",
    "before_sales = df_before_increasing.sales.sum()\n",
    "after_sales = df_after_increasing.sales.sum()\n",
    "print(f\"{text}\", end=\" \")\n",
    "if after_sales > before_sales:\n",
    "    print(f\"Yes\\nIncreasing by ${after_sales - before_sales}\")\n",
    "else:\n",
    "    print(f\"Yes\\nDecreasing by ${before_sales - after_sales}\")"
   ]
  },
  {
   "cell_type": "code",
   "execution_count": 60,
   "id": "307978b6",
   "metadata": {},
   "outputs": [
    {
     "data": {
      "text/html": [
       "\n",
       "        <iframe\n",
       "            width=\"100%\"\n",
       "            height=\"650\"\n",
       "            src=\"http://127.0.0.1:8050/\"\n",
       "            frameborder=\"0\"\n",
       "            allowfullscreen\n",
       "            \n",
       "        ></iframe>\n",
       "        "
      ],
      "text/plain": [
       "<IPython.lib.display.IFrame at 0x15d62d8a0>"
      ]
     },
     "metadata": {},
     "output_type": "display_data"
    }
   ],
   "source": [
    "# Run this app with `python app.py` and\n",
    "# visit http://127.0.0.1:8050/ in your web browser.\n",
    "\n",
    "from dash import Dash, dcc, html\n",
    "import plotly.express as px\n",
    "import pandas as pd\n",
    "\n",
    "app = Dash(__name__)\n",
    "\n",
    "colors = {\n",
    "    'background': '#111111',\n",
    "    'text': '#7FDBFF'\n",
    "}\n",
    "\n",
    "sales = list(df_before_increasing.groupby('region').sales.sum()) + list(df_after_increasing.groupby('region').sales.sum())\n",
    "\n",
    "df = pd.DataFrame({\n",
    "    \"Region\": [\"east\", \"north\", \"south\", \"west\", \"east\", \"north\", \"south\", \"west\"],\n",
    "    \"Sales\": sales,\n",
    "    \"Before/After\": ['before', 'before', 'before', 'before', 'after', 'after', 'after', 'after']\n",
    "})\n",
    "\n",
    "fig = px.bar(df, x=\"Region\", y=\"Sales\", color=\"Before/After\", barmode=\"group\")\n",
    "\n",
    "fig.update_layout(\n",
    "    plot_bgcolor=colors['background'],\n",
    "    paper_bgcolor=colors['background'],\n",
    "    font_color=colors['text']\n",
    ")\n",
    "\n",
    "app.layout = html.Div(style={'backgroundColor': colors['background']}, children=[\n",
    "    html.H1(\n",
    "        children='Hello Dash',\n",
    "        style={\n",
    "            'textAlign': 'center',\n",
    "            'color': colors['text']\n",
    "        }\n",
    "    ),\n",
    "\n",
    "    html.Div(children='Dash: A web application framework for your data.', style={\n",
    "        'textAlign': 'center',\n",
    "        'color': colors['text']\n",
    "    }),\n",
    "\n",
    "    dcc.Graph(\n",
    "        id='example-graph-2',\n",
    "        figure=fig\n",
    "    )\n",
    "])\n",
    "\n",
    "if __name__ == '__main__':\n",
    "    app.run(debug=True)\n"
   ]
  },
  {
   "cell_type": "code",
   "execution_count": null,
   "id": "d6ba5f97",
   "metadata": {},
   "outputs": [],
   "source": []
  },
  {
   "cell_type": "code",
   "execution_count": null,
   "id": "1e130703",
   "metadata": {},
   "outputs": [],
   "source": []
  }
 ],
 "metadata": {
  "kernelspec": {
   "display_name": "Python 3 (ipykernel)",
   "language": "python",
   "name": "python3"
  },
  "language_info": {
   "codemirror_mode": {
    "name": "ipython",
    "version": 3
   },
   "file_extension": ".py",
   "mimetype": "text/x-python",
   "name": "python",
   "nbconvert_exporter": "python",
   "pygments_lexer": "ipython3",
   "version": "3.10.2"
  }
 },
 "nbformat": 4,
 "nbformat_minor": 5
}
